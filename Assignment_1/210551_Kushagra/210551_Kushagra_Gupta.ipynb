{
  "cells": [
    {
      "cell_type": "markdown",
      "metadata": {
        "id": "0l9WERK9rWEM"
      },
      "source": [
        "The word \"HACK\" in file"
      ]
    },
    {
      "cell_type": "code",
      "execution_count": 4,
      "metadata": {
        "colab": {
          "base_uri": "https://localhost:8080/"
        },
        "id": "CJYkrSKWrP1_",
        "outputId": "72afcd9c-829b-4ac0-fdc4-dc799d8d6bb4"
      },
      "outputs": [
        {
          "output_type": "stream",
          "name": "stdout",
          "text": [
            "String HACK Found In Line 205\n",
            "Line: WJouUPMvd1Cna4  HACK) UIiF//3kXhtun H-Dctm 3EUMHjy fChER G/lMAP c(sRYf\n",
            "\n"
          ]
        }
      ],
      "source": [
        "string1 = 'HACK'\n",
        "# opening a text file\n",
        "file1 = open(\"assn1.txt\", \"r\")\n",
        "# setting flag and index to 0\n",
        "flag = 0\n",
        "index = 0\n",
        "# Loop through the file line by line\n",
        "for line in file1:  \n",
        "    index = index+1\n",
        "# checking string is present in line or not\n",
        "    if string1 in line:\n",
        "        flag = 1 \n",
        "        break \n",
        "# checking condition for string found or not\n",
        "if flag == 0: \n",
        "    print('String', string1 , 'Not Found') \n",
        "else: \n",
        "    print('String', string1, 'Found In Line', index)\n",
        "    print('Line:',line)\n",
        "# closing text file    \n",
        "file1.close() "
      ]
    },
    {
      "cell_type": "markdown",
      "metadata": {
        "id": "dohd-JVls0uJ"
      },
      "source": [
        "A 10 DIGIT NUMBER IN FILE\n"
      ]
    },
    {
      "cell_type": "code",
      "execution_count": 9,
      "metadata": {
        "colab": {
          "base_uri": "https://localhost:8080/"
        },
        "id": "rCD_nLzR_PNx",
        "outputId": "5ecd17ea-a344-4bdf-9c2f-f6a5206b0ab5"
      },
      "outputs": [
        {
          "output_type": "stream",
          "name": "stdout",
          "text": [
            "9159079957\n"
          ]
        }
      ],
      "source": [
        "import re\n",
        "with open('assn1.txt', 'r') as file:\n",
        "    data=file.read().replace('\\n','')\n",
        "    x = re.findall('[0-9]+', data)\n",
        "for i in x:\n",
        "  if len(i)==10: \n",
        "    print(i)"
      ]
    },
    {
      "cell_type": "markdown",
      "metadata": {
        "id": "w269JTyk1Bec"
      },
      "source": [
        "A link based on File Transfer Protocol at Port 8080\n"
      ]
    },
    {
      "cell_type": "code",
      "execution_count": 11,
      "metadata": {
        "colab": {
          "base_uri": "https://localhost:8080/"
        },
        "id": "iPetNhsZ0qqx",
        "outputId": "02713b2b-b0dd-4d90-c151-07389657ebd8"
      },
      "outputs": [
        {
          "output_type": "stream",
          "name": "stdout",
          "text": [
            "String 8080 Found In Line 570\n",
            "Line: lO Vc ftp://ftp.hq.nasa.gov:8080/\n",
            "\n"
          ]
        }
      ],
      "source": [
        "string1 = '8080'\n",
        "# opening a text file\n",
        "file1 = open(\"assn1.txt\", \"r\")\n",
        "# setting flag and index to 0\n",
        "flag = 0\n",
        "index = 0\n",
        "# Loop through the file line by line\n",
        "for line in file1:  \n",
        "    index = index+1\n",
        "# checking string is present in line or not\n",
        "    if string1 in line:\n",
        "        flag = 1 \n",
        "        break \n",
        "# checking condition for string found or not\n",
        "if flag == 0: \n",
        "    print('String', string1 , 'Not Found') \n",
        "else: \n",
        "    print('String', string1, 'Found In Line', index)\n",
        "    print('Line:',line)\n",
        "# closing text file    \n",
        "file1.close() "
      ]
    },
    {
      "cell_type": "markdown",
      "metadata": {
        "id": "VM1YHS6g5L9V"
      },
      "source": [
        "A substring of the form \"hackIT{...}\""
      ]
    },
    {
      "cell_type": "code",
      "execution_count": 10,
      "metadata": {
        "colab": {
          "base_uri": "https://localhost:8080/"
        },
        "id": "3ilxasRy5MSh",
        "outputId": "34079baf-83ad-45c8-e2a4-b8f896914feb"
      },
      "outputs": [
        {
          "output_type": "stream",
          "name": "stdout",
          "text": [
            "String hackIT Found In Line 625\n",
            "Line: TbkhJuj hackIT{y0u_g07_t81s}\n",
            "\n"
          ]
        }
      ],
      "source": [
        "string1 = 'hackIT'\n",
        "# opening a text file\n",
        "file1 = open(\"assn1.txt\", \"r\")\n",
        "# setting flag and index to 0\n",
        "flag = 0\n",
        "index = 0\n",
        "# Loop through the file line by line\n",
        "for line in file1:  \n",
        "    index = index+1\n",
        "# checking string is present in line or not\n",
        "    if string1 in line:\n",
        "        flag = 1 \n",
        "        break \n",
        "# checking condition for string found or not\n",
        "if flag == 0: \n",
        "    print('String', string1 , 'Not Found') \n",
        "else: \n",
        "    print('String', string1, 'Found In Line', index)\n",
        "    print('Line:',line)\n",
        "# closing text file    \n",
        "file1.close() "
      ]
    }
  ],
  "metadata": {
    "colab": {
      "collapsed_sections": [],
      "name": "210551_Kushagra_Gupta.ipynb",
      "provenance": []
    },
    "kernelspec": {
      "display_name": "Python 3",
      "name": "python3"
    },
    "language_info": {
      "name": "python"
    }
  },
  "nbformat": 4,
  "nbformat_minor": 0
}